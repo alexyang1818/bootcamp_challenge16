{
 "cells": [
  {
   "cell_type": "code",
   "execution_count": 1,
   "metadata": {
    "colab": {
     "base_uri": "https://localhost:8080/"
    },
    "id": "TND-MfQCdfc0",
    "outputId": "dde868a2-afef-48b8-d7e1-6d7d9986656d"
   },
   "outputs": [
    {
     "name": "stdout",
     "output_type": "stream",
     "text": [
      "\r",
      "0% [Working]\r",
      "            \r",
      "Ign:1 https://developer.download.nvidia.com/compute/cuda/repos/ubuntu1804/x86_64  InRelease\n",
      "\r",
      "0% [Connecting to archive.ubuntu.com] [Connecting to security.ubuntu.com] [Conn\r",
      "                                                                               \r",
      "Ign:2 https://developer.download.nvidia.com/compute/machine-learning/repos/ubuntu1804/x86_64  InRelease\n",
      "\r",
      "0% [Connecting to archive.ubuntu.com (91.189.88.142)] [Connecting to security.u\r",
      "                                                                               \r",
      "Get:3 https://developer.download.nvidia.com/compute/cuda/repos/ubuntu1804/x86_64  Release [696 B]\n",
      "\r",
      "0% [Connecting to archive.ubuntu.com (91.189.88.142)] [Connecting to security.u\r",
      "0% [Connecting to archive.ubuntu.com (91.189.88.142)] [Connecting to security.u\r",
      "                                                                               \r",
      "Get:4 https://cloud.r-project.org/bin/linux/ubuntu bionic-cran40/ InRelease [3,626 B]\n",
      "\r",
      "0% [Connecting to archive.ubuntu.com (91.189.88.142)] [Connecting to security.u\r",
      "0% [Connecting to archive.ubuntu.com (91.189.88.142)] [Connecting to security.u\r",
      "                                                                               \r",
      "Hit:5 https://developer.download.nvidia.com/compute/machine-learning/repos/ubuntu1804/x86_64  Release\n",
      "Get:6 https://developer.download.nvidia.com/compute/cuda/repos/ubuntu1804/x86_64  Release.gpg [836 B]\n",
      "Get:7 http://ppa.launchpad.net/c2d4u.team/c2d4u4.0+/ubuntu bionic InRelease [15.9 kB]\n",
      "Hit:8 http://archive.ubuntu.com/ubuntu bionic InRelease\n",
      "Get:9 http://security.ubuntu.com/ubuntu bionic-security InRelease [88.7 kB]\n",
      "Get:10 http://archive.ubuntu.com/ubuntu bionic-updates InRelease [88.7 kB]\n",
      "Hit:11 http://ppa.launchpad.net/cran/libgit2/ubuntu bionic InRelease\n",
      "Get:13 http://archive.ubuntu.com/ubuntu bionic-backports InRelease [74.6 kB]\n",
      "Hit:14 http://ppa.launchpad.net/deadsnakes/ppa/ubuntu bionic InRelease\n",
      "Get:15 https://developer.download.nvidia.com/compute/cuda/repos/ubuntu1804/x86_64  Packages [829 kB]\n",
      "Hit:16 http://ppa.launchpad.net/graphics-drivers/ppa/ubuntu bionic InRelease\n",
      "Get:17 http://ppa.launchpad.net/c2d4u.team/c2d4u4.0+/ubuntu bionic/main Sources [1,813 kB]\n",
      "Get:18 http://security.ubuntu.com/ubuntu bionic-security/main amd64 Packages [2,459 kB]\n",
      "Get:19 http://archive.ubuntu.com/ubuntu bionic-updates/main amd64 Packages [2,896 kB]\n",
      "Get:20 http://security.ubuntu.com/ubuntu bionic-security/restricted amd64 Packages [689 kB]\n",
      "Get:21 http://security.ubuntu.com/ubuntu bionic-security/universe amd64 Packages [1,444 kB]\n",
      "Get:22 http://ppa.launchpad.net/c2d4u.team/c2d4u4.0+/ubuntu bionic/main amd64 Packages [930 kB]\n",
      "Get:23 http://archive.ubuntu.com/ubuntu bionic-updates/universe amd64 Packages [2,225 kB]\n",
      "Get:24 http://archive.ubuntu.com/ubuntu bionic-updates/restricted amd64 Packages [723 kB]\n",
      "Fetched 14.3 MB in 4s (3,462 kB/s)\n",
      "Reading package lists... Done\n"
     ]
    }
   ],
   "source": [
    "import os\n",
    "# Find the latest version of spark 3.0 from http://www.apache.org/dist/spark/ and enter as the spark version\n",
    "# For example:\n",
    "# spark_version = 'spark-3.0.3'\n",
    "spark_version = 'spark-3.0.3'\n",
    "os.environ['SPARK_VERSION']=spark_version\n",
    "\n",
    "# Install Spark and Java\n",
    "!apt-get update\n",
    "!apt-get install openjdk-11-jdk-headless -qq > /dev/null\n",
    "!wget -q http://www.apache.org/dist/spark/$SPARK_VERSION/$SPARK_VERSION-bin-hadoop2.7.tgz\n",
    "!tar xf $SPARK_VERSION-bin-hadoop2.7.tgz\n",
    "!pip install -q findspark\n",
    "\n",
    "# Set Environment Variables\n",
    "import os\n",
    "os.environ[\"JAVA_HOME\"] = \"/usr/lib/jvm/java-11-openjdk-amd64\"\n",
    "os.environ[\"SPARK_HOME\"] = f\"/content/{spark_version}-bin-hadoop2.7\"\n",
    "\n",
    "# Start a SparkSession\n",
    "import findspark\n",
    "findspark.init()"
   ]
  },
  {
   "cell_type": "code",
   "execution_count": 2,
   "metadata": {
    "colab": {
     "base_uri": "https://localhost:8080/"
    },
    "id": "9p0KLaMfdlA3",
    "outputId": "ec1eea50-3c55-4e59-8b38-253925c0dfeb"
   },
   "outputs": [
    {
     "name": "stdout",
     "output_type": "stream",
     "text": [
      "--2021-12-02 04:46:11--  https://jdbc.postgresql.org/download/postgresql-42.2.16.jar\n",
      "Resolving jdbc.postgresql.org (jdbc.postgresql.org)... 72.32.157.228, 2001:4800:3e1:1::228\n",
      "Connecting to jdbc.postgresql.org (jdbc.postgresql.org)|72.32.157.228|:443... connected.\n",
      "HTTP request sent, awaiting response... 200 OK\n",
      "Length: 1002883 (979K) [application/java-archive]\n",
      "Saving to: ‘postgresql-42.2.16.jar’\n",
      "\n",
      "postgresql-42.2.16. 100%[===================>] 979.38K  4.53MB/s    in 0.2s    \n",
      "\n",
      "2021-12-02 04:46:12 (4.53 MB/s) - ‘postgresql-42.2.16.jar’ saved [1002883/1002883]\n",
      "\n"
     ]
    }
   ],
   "source": [
    "# Download the Postgres driver that will allow Spark to interact with Postgres.\n",
    "!wget https://jdbc.postgresql.org/download/postgresql-42.2.16.jar"
   ]
  },
  {
   "cell_type": "code",
   "execution_count": 3,
   "metadata": {
    "id": "yLH9xoZ4dnv9"
   },
   "outputs": [],
   "source": [
    "from pyspark.sql import SparkSession\n",
    "spark = SparkSession.builder.appName(\"M16-Amazon-Challenge\").config(\"spark.driver.extraClassPath\",\"/content/postgresql-42.2.16.jar\").getOrCreate()"
   ]
  },
  {
   "cell_type": "code",
   "execution_count": 4,
   "metadata": {
    "colab": {
     "base_uri": "https://localhost:8080/"
    },
    "id": "IHA3Kw_fdtpa",
    "outputId": "111a5d9f-e1ed-4d9e-99e1-4a86cde83b8f"
   },
   "outputs": [
    {
     "name": "stdout",
     "output_type": "stream",
     "text": [
      "+-----------+-----------+--------------+----------+--------------+--------------------+----------------+-----------+-------------+-----------+----+-----------------+--------------------+--------------------+-----------+\n",
      "|marketplace|customer_id|     review_id|product_id|product_parent|       product_title|product_category|star_rating|helpful_votes|total_votes|vine|verified_purchase|     review_headline|         review_body|review_date|\n",
      "+-----------+-----------+--------------+----------+--------------+--------------------+----------------+-----------+-------------+-----------+----+-----------------+--------------------+--------------------+-----------+\n",
      "|         US|    3653882|R3O9SGZBVQBV76|B00FALQ1ZC|     937001370|Invicta Women's 1...|         Watches|          5|            0|          0|   N|                Y|          Five Stars|Absolutely love t...| 2015-08-31|\n",
      "|         US|   14661224| RKH8BNC3L5DLF|B00D3RGO20|     484010722|Kenneth Cole New ...|         Watches|          5|            0|          0|   N|                Y|I love thiswatch ...|I love this watch...| 2015-08-31|\n",
      "|         US|   27324930|R2HLE8WKZSU3NL|B00DKYC7TK|     361166390|Ritche 22mm Black...|         Watches|          2|            1|          1|   N|                Y|           Two Stars|           Scratches| 2015-08-31|\n",
      "|         US|    7211452|R31U3UH5AZ42LL|B000EQS1JW|     958035625|Citizen Men's BM8...|         Watches|          5|            0|          0|   N|                Y|          Five Stars|It works well on ...| 2015-08-31|\n",
      "|         US|   12733322|R2SV659OUJ945Y|B00A6GFD7S|     765328221|Orient ER27009B M...|         Watches|          4|            0|          0|   N|                Y|Beautiful face, b...|Beautiful watch f...| 2015-08-31|\n",
      "+-----------+-----------+--------------+----------+--------------+--------------------+----------------+-----------+-------------+-----------+----+-----------------+--------------------+--------------------+-----------+\n",
      "only showing top 5 rows\n",
      "\n"
     ]
    }
   ],
   "source": [
    "from pyspark import SparkFiles\n",
    "url = \"https://s3.amazonaws.com/amazon-reviews-pds/tsv/amazon_reviews_us_Watches_v1_00.tsv.gz\"\n",
    "spark.sparkContext.addFile(url)\n",
    "df = spark.read.option(\"encoding\", \"UTF-8\").csv(SparkFiles.get(\"\"), sep=\"\\t\", header=True, inferSchema=True)\n",
    "df.show(5)"
   ]
  },
  {
   "cell_type": "code",
   "execution_count": 5,
   "metadata": {
    "colab": {
     "base_uri": "https://localhost:8080/"
    },
    "id": "QWXJuQTPdvdX",
    "outputId": "1d2407a5-f47c-4358-f3ed-017d7d97ebba"
   },
   "outputs": [
    {
     "name": "stdout",
     "output_type": "stream",
     "text": [
      "+--------------+-----------+-------------+-----------+----+-----------------+\n",
      "|     review_id|star_rating|helpful_votes|total_votes|vine|verified_purchase|\n",
      "+--------------+-----------+-------------+-----------+----+-----------------+\n",
      "|R3O9SGZBVQBV76|          5|            0|          0|   N|                Y|\n",
      "| RKH8BNC3L5DLF|          5|            0|          0|   N|                Y|\n",
      "|R2HLE8WKZSU3NL|          2|            1|          1|   N|                Y|\n",
      "|R31U3UH5AZ42LL|          5|            0|          0|   N|                Y|\n",
      "|R2SV659OUJ945Y|          4|            0|          0|   N|                Y|\n",
      "+--------------+-----------+-------------+-----------+----+-----------------+\n",
      "only showing top 5 rows\n",
      "\n"
     ]
    }
   ],
   "source": [
    "# Create the vine_table. DataFrame\n",
    "vine_df = df.select(['review_id', 'star_rating', 'helpful_votes', 'total_votes', 'vine', 'verified_purchase'])\n",
    "vine_df.show(5)"
   ]
  },
  {
   "cell_type": "code",
   "execution_count": 7,
   "metadata": {
    "colab": {
     "base_uri": "https://localhost:8080/"
    },
    "id": "-N4YpSEPfHYM",
    "outputId": "85b15281-2312-45b6-c998-e866c6da5d03"
   },
   "outputs": [
    {
     "name": "stdout",
     "output_type": "stream",
     "text": [
      "root\n",
      " |-- review_id: string (nullable = true)\n",
      " |-- star_rating: integer (nullable = true)\n",
      " |-- helpful_votes: integer (nullable = true)\n",
      " |-- total_votes: integer (nullable = true)\n",
      " |-- vine: string (nullable = true)\n",
      " |-- verified_purchase: string (nullable = true)\n",
      "\n"
     ]
    }
   ],
   "source": [
    "vine_df.printSchema()"
   ]
  },
  {
   "cell_type": "code",
   "execution_count": 8,
   "metadata": {
    "colab": {
     "base_uri": "https://localhost:8080/"
    },
    "id": "paMLf0jkeQPf",
    "outputId": "99f1ca5d-7850-4ae7-b109-69b426fdd463"
   },
   "outputs": [
    {
     "name": "stdout",
     "output_type": "stream",
     "text": [
      "+--------------+-----------+-------------+-----------+----+-----------------+\n",
      "|     review_id|star_rating|helpful_votes|total_votes|vine|verified_purchase|\n",
      "+--------------+-----------+-------------+-----------+----+-----------------+\n",
      "|R14W2VCHHK5V7W|          5|           19|         20|   N|                Y|\n",
      "|R1S3T57O3OYT5S|          5|           19|         20|   N|                Y|\n",
      "|R1BTWIBLYYVOV7|          5|           30|         30|   N|                Y|\n",
      "| R6F9VY91ADPLA|          1|            8|         30|   N|                N|\n",
      "|R3PXNV89DFIXKV|          5|           35|         37|   N|                Y|\n",
      "|R2ZF9NYVT3J7D6|          5|           19|         22|   N|                Y|\n",
      "|R20NYA5V0UF9NE|          5|           27|         28|   N|                Y|\n",
      "|R2X8FZRUOS8R8C|          4|           25|         26|   N|                Y|\n",
      "|R2D8IMBVX3XCLF|          1|           14|         20|   N|                Y|\n",
      "|R25UD9TA63L3Q8|          5|           25|         27|   N|                Y|\n",
      "|R2RB1HML8N712P|          5|           26|         28|   N|                Y|\n",
      "| ROXA8XP5EI2KK|          5|           48|         49|   N|                N|\n",
      "|R149IHTGGSRGX9|          5|           19|         20|   N|                Y|\n",
      "|R1B7M0OP3UNP6O|          5|           49|         52|   Y|                N|\n",
      "|R2N92CUM7WBA1A|          5|           27|         28|   N|                Y|\n",
      "|R2TAFZNG4KHFQB|          4|           24|         24|   N|                Y|\n",
      "| RNRFACS48ZE4A|          5|           21|         21|   N|                Y|\n",
      "|R2PO5QTLXJ9LHG|          5|           33|         46|   N|                N|\n",
      "|R38KDT041DRMIN|          5|           19|         24|   N|                Y|\n",
      "|R2MNPDWCA42I4G|          1|           17|         20|   N|                N|\n",
      "+--------------+-----------+-------------+-----------+----+-----------------+\n",
      "only showing top 20 rows\n",
      "\n"
     ]
    }
   ],
   "source": [
    "votes_le_20_df = vine_df.filter(\"total_votes>=20\")\n",
    "votes_le_20_df.show()"
   ]
  },
  {
   "cell_type": "code",
   "execution_count": 9,
   "metadata": {
    "colab": {
     "base_uri": "https://localhost:8080/"
    },
    "id": "zrrFf3C3esul",
    "outputId": "ea760c59-2b57-4cfa-9edd-f1ec3c693c68"
   },
   "outputs": [
    {
     "name": "stdout",
     "output_type": "stream",
     "text": [
      "+--------------+-----------+-------------+-----------+----+-----------------+\n",
      "|     review_id|star_rating|helpful_votes|total_votes|vine|verified_purchase|\n",
      "+--------------+-----------+-------------+-----------+----+-----------------+\n",
      "|R14W2VCHHK5V7W|          5|           19|         20|   N|                Y|\n",
      "|R1S3T57O3OYT5S|          5|           19|         20|   N|                Y|\n",
      "|R1BTWIBLYYVOV7|          5|           30|         30|   N|                Y|\n",
      "|R3PXNV89DFIXKV|          5|           35|         37|   N|                Y|\n",
      "|R2ZF9NYVT3J7D6|          5|           19|         22|   N|                Y|\n",
      "|R20NYA5V0UF9NE|          5|           27|         28|   N|                Y|\n",
      "|R2X8FZRUOS8R8C|          4|           25|         26|   N|                Y|\n",
      "|R2D8IMBVX3XCLF|          1|           14|         20|   N|                Y|\n",
      "|R25UD9TA63L3Q8|          5|           25|         27|   N|                Y|\n",
      "|R2RB1HML8N712P|          5|           26|         28|   N|                Y|\n",
      "| ROXA8XP5EI2KK|          5|           48|         49|   N|                N|\n",
      "|R149IHTGGSRGX9|          5|           19|         20|   N|                Y|\n",
      "|R1B7M0OP3UNP6O|          5|           49|         52|   Y|                N|\n",
      "|R2N92CUM7WBA1A|          5|           27|         28|   N|                Y|\n",
      "|R2TAFZNG4KHFQB|          4|           24|         24|   N|                Y|\n",
      "| RNRFACS48ZE4A|          5|           21|         21|   N|                Y|\n",
      "|R2PO5QTLXJ9LHG|          5|           33|         46|   N|                N|\n",
      "|R38KDT041DRMIN|          5|           19|         24|   N|                Y|\n",
      "|R2MNPDWCA42I4G|          1|           17|         20|   N|                N|\n",
      "|R3F3KMKY26K620|          4|           25|         26|   N|                Y|\n",
      "+--------------+-----------+-------------+-----------+----+-----------------+\n",
      "only showing top 20 rows\n",
      "\n"
     ]
    }
   ],
   "source": [
    "helpful_by_total_df = votes_le_20_df.filter(votes_le_20_df.helpful_votes/votes_le_20_df.total_votes >= 0.5)\n",
    "helpful_by_total_df.show()"
   ]
  },
  {
   "cell_type": "code",
   "execution_count": 10,
   "metadata": {
    "colab": {
     "base_uri": "https://localhost:8080/"
    },
    "id": "H-QUNsOTgfxz",
    "outputId": "74d6d9c7-377a-49c1-f931-4127bffefb89"
   },
   "outputs": [
    {
     "name": "stdout",
     "output_type": "stream",
     "text": [
      "+--------------+-----------+-------------+-----------+----+-----------------+\n",
      "|     review_id|star_rating|helpful_votes|total_votes|vine|verified_purchase|\n",
      "+--------------+-----------+-------------+-----------+----+-----------------+\n",
      "|R1B7M0OP3UNP6O|          5|           49|         52|   Y|                N|\n",
      "|R2UUV4UGGYMQG8|          5|           34|         39|   Y|                N|\n",
      "| R9K0LZV2BK9YY|          4|           37|         39|   Y|                N|\n",
      "|R2OVFLNEUEGTJM|          3|           18|         25|   Y|                N|\n",
      "| RBE09ELJ77LQ0|          5|           44|         45|   Y|                N|\n",
      "|R3867T8AIJJHM6|          5|           26|         27|   Y|                N|\n",
      "|R1FNVUXPU63WOZ|          4|           43|         48|   Y|                N|\n",
      "|R25XGG2G12SE1Z|          4|           20|         23|   Y|                N|\n",
      "| R3JKU4HRDFZDH|          4|           27|         30|   Y|                N|\n",
      "|R2PQYOCJXRB1BF|          5|           26|         28|   Y|                N|\n",
      "|R1JBQ8UBLA8N4X|          4|          349|        370|   Y|                N|\n",
      "|R2I01ZYMO0GYP1|          4|          107|        121|   Y|                N|\n",
      "|R297GF8EF7AXPO|          2|           22|         30|   Y|                N|\n",
      "|R2OFG89WKPLHGU|          5|           54|         60|   Y|                N|\n",
      "|R13PI8O4697CEV|          4|          135|        144|   Y|                N|\n",
      "|R223MX62JYWUOY|          4|           20|         21|   Y|                N|\n",
      "| RTSXZ0HZF623M|          3|           13|         22|   Y|                N|\n",
      "|R1OB4GCKEYGV9I|          4|           61|         90|   Y|                N|\n",
      "|R1YBNRRUD5WCG4|          5|           15|         20|   Y|                N|\n",
      "|R3L4Z6NK2Z4OV5|          2|           24|         33|   Y|                N|\n",
      "+--------------+-----------+-------------+-----------+----+-----------------+\n",
      "only showing top 20 rows\n",
      "\n"
     ]
    }
   ],
   "source": [
    "vine_y_df = helpful_by_total_df.filter(helpful_by_total_df.vine == 'Y')\n",
    "vine_y_df.show()"
   ]
  },
  {
   "cell_type": "code",
   "execution_count": 11,
   "metadata": {
    "colab": {
     "base_uri": "https://localhost:8080/"
    },
    "id": "NuYLqIunhBxH",
    "outputId": "f87f2465-ba0a-4bf7-d95e-e35ed6fd51dc"
   },
   "outputs": [
    {
     "name": "stdout",
     "output_type": "stream",
     "text": [
      "+--------------+-----------+-------------+-----------+----+-----------------+\n",
      "|     review_id|star_rating|helpful_votes|total_votes|vine|verified_purchase|\n",
      "+--------------+-----------+-------------+-----------+----+-----------------+\n",
      "|R14W2VCHHK5V7W|          5|           19|         20|   N|                Y|\n",
      "|R1S3T57O3OYT5S|          5|           19|         20|   N|                Y|\n",
      "|R1BTWIBLYYVOV7|          5|           30|         30|   N|                Y|\n",
      "|R3PXNV89DFIXKV|          5|           35|         37|   N|                Y|\n",
      "|R2ZF9NYVT3J7D6|          5|           19|         22|   N|                Y|\n",
      "|R20NYA5V0UF9NE|          5|           27|         28|   N|                Y|\n",
      "|R2X8FZRUOS8R8C|          4|           25|         26|   N|                Y|\n",
      "|R2D8IMBVX3XCLF|          1|           14|         20|   N|                Y|\n",
      "|R25UD9TA63L3Q8|          5|           25|         27|   N|                Y|\n",
      "|R2RB1HML8N712P|          5|           26|         28|   N|                Y|\n",
      "| ROXA8XP5EI2KK|          5|           48|         49|   N|                N|\n",
      "|R149IHTGGSRGX9|          5|           19|         20|   N|                Y|\n",
      "|R2N92CUM7WBA1A|          5|           27|         28|   N|                Y|\n",
      "|R2TAFZNG4KHFQB|          4|           24|         24|   N|                Y|\n",
      "| RNRFACS48ZE4A|          5|           21|         21|   N|                Y|\n",
      "|R2PO5QTLXJ9LHG|          5|           33|         46|   N|                N|\n",
      "|R38KDT041DRMIN|          5|           19|         24|   N|                Y|\n",
      "|R2MNPDWCA42I4G|          1|           17|         20|   N|                N|\n",
      "|R3F3KMKY26K620|          4|           25|         26|   N|                Y|\n",
      "|R2PU32HT6X9DOM|          5|           23|         24|   N|                Y|\n",
      "+--------------+-----------+-------------+-----------+----+-----------------+\n",
      "only showing top 20 rows\n",
      "\n"
     ]
    }
   ],
   "source": [
    "vine_n_df = helpful_by_total_df.filter(helpful_by_total_df.vine == 'N')\n",
    "vine_n_df.show()"
   ]
  },
  {
   "cell_type": "code",
   "execution_count": 14,
   "metadata": {
    "colab": {
     "base_uri": "https://localhost:8080/"
    },
    "id": "Xl3ZgaQXhGPh",
    "outputId": "1c0b2d6b-de30-4e78-f576-124682af83c0"
   },
   "outputs": [
    {
     "name": "stdout",
     "output_type": "stream",
     "text": [
      "47\n"
     ]
    }
   ],
   "source": [
    "vine_y_total_reviews = vine_y_df.count()\n",
    "print(vine_y_total_reviews)"
   ]
  },
  {
   "cell_type": "code",
   "execution_count": 16,
   "metadata": {
    "colab": {
     "base_uri": "https://localhost:8080/"
    },
    "id": "39cjMb-ghke_",
    "outputId": "775123f7-108d-484d-dbba-14517e447b0e"
   },
   "outputs": [
    {
     "name": "stdout",
     "output_type": "stream",
     "text": [
      "15\n"
     ]
    }
   ],
   "source": [
    "vine_y_5_star_reviews = vine_y_df.filter(vine_y_df.star_rating == 5).count()\n",
    "print(vine_y_5_star_reviews)"
   ]
  },
  {
   "cell_type": "code",
   "execution_count": 17,
   "metadata": {
    "colab": {
     "base_uri": "https://localhost:8080/"
    },
    "id": "XR6hlFOvh1NT",
    "outputId": "2a2a7d57-b5f9-43a1-bd90-65350801f362"
   },
   "outputs": [
    {
     "name": "stdout",
     "output_type": "stream",
     "text": [
      "0.3191489361702128\n"
     ]
    }
   ],
   "source": [
    "vine_y_percentage = vine_y_5_star_reviews / vine_y_total_reviews\n",
    "print(vine_y_percentage)"
   ]
  },
  {
   "cell_type": "code",
   "execution_count": 18,
   "metadata": {
    "colab": {
     "base_uri": "https://localhost:8080/"
    },
    "id": "Uz0UVXavieSs",
    "outputId": "fffe9771-3878-4fb7-ecb0-e22b36a99d1b"
   },
   "outputs": [
    {
     "name": "stdout",
     "output_type": "stream",
     "text": [
      "8362\n"
     ]
    }
   ],
   "source": [
    "vine_n_total_reviews = vine_n_df.count()\n",
    "print(vine_n_total_reviews)"
   ]
  },
  {
   "cell_type": "code",
   "execution_count": 19,
   "metadata": {
    "colab": {
     "base_uri": "https://localhost:8080/"
    },
    "id": "_UX7zUVbiiqN",
    "outputId": "4218e646-37ba-4633-fbfc-e519aaac6ba0"
   },
   "outputs": [
    {
     "name": "stdout",
     "output_type": "stream",
     "text": [
      "4332\n"
     ]
    }
   ],
   "source": [
    "vine_n_5_star_reviews = vine_n_df.filter(vine_n_df.star_rating == 5).count()\n",
    "print(vine_n_5_star_reviews)"
   ]
  },
  {
   "cell_type": "code",
   "execution_count": 20,
   "metadata": {
    "colab": {
     "base_uri": "https://localhost:8080/"
    },
    "id": "iONFTrBzin6Y",
    "outputId": "77971a91-15e3-4584-c2e6-55a96f4812d1"
   },
   "outputs": [
    {
     "name": "stdout",
     "output_type": "stream",
     "text": [
      "0.5180578808897393\n"
     ]
    }
   ],
   "source": [
    "vine_n_percentage = vine_n_5_star_reviews / vine_n_total_reviews\n",
    "print(vine_n_percentage)"
   ]
  },
  {
   "cell_type": "code",
   "execution_count": null,
   "metadata": {
    "id": "fR5gxSzgitVS"
   },
   "outputs": [],
   "source": []
  }
 ],
 "metadata": {
  "colab": {
   "collapsed_sections": [],
   "name": "Vine_Review_Analysis.ipynb",
   "provenance": []
  },
  "kernelspec": {
   "display_name": "Python 3",
   "language": "python",
   "name": "python3"
  },
  "language_info": {
   "codemirror_mode": {
    "name": "ipython",
    "version": 3
   },
   "file_extension": ".py",
   "mimetype": "text/x-python",
   "name": "python",
   "nbconvert_exporter": "python",
   "pygments_lexer": "ipython3",
   "version": "3.8.8"
  }
 },
 "nbformat": 4,
 "nbformat_minor": 1
}
